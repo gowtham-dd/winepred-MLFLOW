{
 "cells": [
  {
   "cell_type": "markdown",
   "metadata": {},
   "source": [
    "## Data Ingestion"
   ]
  },
  {
   "cell_type": "code",
   "execution_count": 4,
   "metadata": {},
   "outputs": [
    {
     "data": {
      "text/plain": [
       "'d:\\\\Data Science\\\\END to END Proj\\\\WinePred\\\\winepred-MLFLOW'"
      ]
     },
     "execution_count": 4,
     "metadata": {},
     "output_type": "execute_result"
    }
   ],
   "source": [
    "import os\n",
    "%pwd"
   ]
  },
  {
   "cell_type": "code",
   "execution_count": 3,
   "metadata": {},
   "outputs": [],
   "source": [
    "os.chdir(\"../\")"
   ]
  },
  {
   "cell_type": "code",
   "execution_count": 5,
   "metadata": {},
   "outputs": [],
   "source": [
    "## ENTITY\n",
    "from dataclasses import dataclass\n",
    "from pathlib import Path\n",
    "\n",
    "@dataclass(frozen=True)\n",
    "class DataIngestionConfig:\n",
    "    root_dir:Path\n",
    "    source_URL:str\n",
    "    local_data_file:Path\n",
    "    unzip_dir:Path"
   ]
  },
  {
   "cell_type": "code",
   "execution_count": 6,
   "metadata": {},
   "outputs": [],
   "source": [
    "from src.WinePredMLflow.constant import *\n",
    "from src.WinePredMLflow.utils.common import read_yaml,create_directories "
   ]
  },
  {
   "cell_type": "code",
   "execution_count": 7,
   "metadata": {},
   "outputs": [],
   "source": [
    "class ConfigurationManager:\n",
    "    def __init__(\n",
    "        self,\n",
    "        config_filepath = CONFIG_FILE_PATH,\n",
    "        params_filepath = PARAMS_FILE_PATH,\n",
    "        schema_filepath = SCHEMA_FILE_PATH):\n",
    "\n",
    "        self.config = read_yaml(config_filepath)\n",
    "        self.params = read_yaml(params_filepath)\n",
    "        self.schema = read_yaml(schema_filepath)\n",
    "\n",
    "        create_directories([self.config.artifacts_root])\n",
    "\n",
    "\n",
    "    \n",
    "    def get_data_ingestion_config(self) -> DataIngestionConfig:\n",
    "        config = self.config.data_ingestion\n",
    "\n",
    "        create_directories([config.root_dir])\n",
    "\n",
    "        data_ingestion_config = DataIngestionConfig(\n",
    "            root_dir=config.root_dir,\n",
    "            source_URL=config.source_URL,\n",
    "            local_data_file=config.local_data_file,\n",
    "            unzip_dir=config.unzip_dir \n",
    "        )\n",
    "\n",
    "        return data_ingestion_config"
   ]
  },
  {
   "cell_type": "code",
   "execution_count": 8,
   "metadata": {},
   "outputs": [],
   "source": [
    "import os\n",
    "import urllib.request as request\n",
    "import zipfile\n",
    "from WinePredMLflow import logger\n",
    "from WinePredMLflow.utils.common import get_size"
   ]
  },
  {
   "cell_type": "code",
   "execution_count": 9,
   "metadata": {},
   "outputs": [],
   "source": [
    "class DataIngestion:\n",
    "    def __init__(self, config: DataIngestionConfig):\n",
    "        self.config = config\n",
    "\n",
    "    def download_file(self):\n",
    "        \"\"\"Downloads the file from source_URL to local_data_file\"\"\"\n",
    "        # Create directory if it doesn't exist\n",
    "        os.makedirs(os.path.dirname(self.config.local_data_file), exist_ok=True)\n",
    "        \n",
    "        if not os.path.exists(self.config.local_data_file):\n",
    "            logger.info(f\"Downloading data from {self.config.source_URL}...\")\n",
    "            filename, headers = request.urlretrieve(\n",
    "                url=self.config.source_URL,  # Use source_URL here\n",
    "                filename=self.config.local_data_file  # Save to local_data_file\n",
    "            )\n",
    "            logger.info(f\"Download completed to: {filename}\")\n",
    "            logger.debug(f\"Download headers: {headers}\")\n",
    "        else:\n",
    "            logger.info(f\"File already exists at {self.config.local_data_file}, size: {get_size(Path(self.config.local_data_file))}\")\n",
    "\n",
    "    def extract_zip_file(self):\n",
    "        \"\"\"Extracts the downloaded zip file to unzip_dir\"\"\"\n",
    "        logger.info(f\"Extracting zip file from {self.config.local_data_file} to {self.config.unzip_dir}\")\n",
    "        \n",
    "        # Create extraction directory if it doesn't exist\n",
    "        os.makedirs(self.config.unzip_dir, exist_ok=True)\n",
    "        \n",
    "        with zipfile.ZipFile(self.config.local_data_file, 'r') as zip_ref:\n",
    "            zip_ref.extractall(self.config.unzip_dir)\n",
    "        \n",
    "        logger.info(f\"Successfully extracted to {self.config.unzip_dir}\")"
   ]
  },
  {
   "cell_type": "code",
   "execution_count": 10,
   "metadata": {},
   "outputs": [
    {
     "name": "stdout",
     "output_type": "stream",
     "text": [
      "[2025-06-27 14:45:03,005: INFO: common: yaml file: config\\config.yaml loaded successfully]\n",
      "[2025-06-27 14:45:03,010: INFO: common: yaml file: params.yaml loaded successfully]\n",
      "[2025-06-27 14:45:03,017: INFO: common: yaml file: schema.yaml loaded successfully]\n",
      "[2025-06-27 14:45:03,025: INFO: common: created directory at: artifacts]\n",
      "[2025-06-27 14:45:03,027: INFO: common: created directory at: artifacts/data_ingestion]\n",
      "[2025-06-27 14:45:03,027: INFO: 2235201259: File already exists at artifacts/data_ingestion/data.zip, size: ~ 23 KB]\n",
      "[2025-06-27 14:45:03,033: INFO: 2235201259: Extracting zip file from artifacts/data_ingestion/data.zip to artifacts/data_ingestion]\n",
      "[2025-06-27 14:45:03,045: INFO: 2235201259: Successfully extracted to artifacts/data_ingestion]\n"
     ]
    }
   ],
   "source": [
    "try:\n",
    "    config = ConfigurationManager()\n",
    "    data_ingestion_config = config.get_data_ingestion_config()\n",
    "    data_ingestion = DataIngestion(config=data_ingestion_config)\n",
    "    data_ingestion.download_file()\n",
    "    data_ingestion.extract_zip_file()\n",
    "except Exception as e:\n",
    "    raise e"
   ]
  }
 ],
 "metadata": {
  "kernelspec": {
   "display_name": "venv",
   "language": "python",
   "name": "python3"
  },
  "language_info": {
   "codemirror_mode": {
    "name": "ipython",
    "version": 3
   },
   "file_extension": ".py",
   "mimetype": "text/x-python",
   "name": "python",
   "nbconvert_exporter": "python",
   "pygments_lexer": "ipython3",
   "version": "3.11.1"
  }
 },
 "nbformat": 4,
 "nbformat_minor": 2
}
