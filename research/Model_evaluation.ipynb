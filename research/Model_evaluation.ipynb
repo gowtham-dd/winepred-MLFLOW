{
 "cells": [
  {
   "cell_type": "markdown",
   "metadata": {},
   "source": [
    "## Model Evaluation "
   ]
  },
  {
   "cell_type": "code",
   "execution_count": 12,
   "metadata": {},
   "outputs": [
    {
     "data": {
      "text/plain": [
       "'d:\\\\Data Science\\\\END to END Proj\\\\WinePred\\\\winepred-MLFLOW'"
      ]
     },
     "execution_count": 12,
     "metadata": {},
     "output_type": "execute_result"
    }
   ],
   "source": [
    "import os\n",
    "%pwd"
   ]
  },
  {
   "cell_type": "code",
   "execution_count": 2,
   "metadata": {},
   "outputs": [],
   "source": [
    "os.chdir(\"../\")"
   ]
  },
  {
   "cell_type": "code",
   "execution_count": 13,
   "metadata": {},
   "outputs": [
    {
     "name": "stdout",
     "output_type": "stream",
     "text": [
      "Requirement already satisfied: dagshub in d:\\data science\\end to end proj\\winepred\\winepred-mlflow\\venv\\lib\\site-packages (0.5.10)\n",
      "Requirement already satisfied: PyYAML>=5 in d:\\data science\\end to end proj\\winepred\\winepred-mlflow\\venv\\lib\\site-packages (from dagshub) (6.0.1)\n",
      "Requirement already satisfied: appdirs>=1.4.4 in d:\\data science\\end to end proj\\winepred\\winepred-mlflow\\venv\\lib\\site-packages (from dagshub) (1.4.4)\n",
      "Requirement already satisfied: click>=8.0.4 in d:\\data science\\end to end proj\\winepred\\winepred-mlflow\\venv\\lib\\site-packages (from dagshub) (8.2.1)\n",
      "Requirement already satisfied: httpx>=0.23.0 in d:\\data science\\end to end proj\\winepred\\winepred-mlflow\\venv\\lib\\site-packages (from dagshub) (0.28.1)\n",
      "Requirement already satisfied: GitPython>=3.1.29 in d:\\data science\\end to end proj\\winepred\\winepred-mlflow\\venv\\lib\\site-packages (from dagshub) (3.1.44)\n",
      "Requirement already satisfied: rich>=13.1.0 in d:\\data science\\end to end proj\\winepred\\winepred-mlflow\\venv\\lib\\site-packages (from dagshub) (14.0.0)\n",
      "Requirement already satisfied: dacite~=1.6.0 in d:\\data science\\end to end proj\\winepred\\winepred-mlflow\\venv\\lib\\site-packages (from dagshub) (1.6.0)\n",
      "Requirement already satisfied: tenacity>=8.2.2 in d:\\data science\\end to end proj\\winepred\\winepred-mlflow\\venv\\lib\\site-packages (from dagshub) (9.1.2)\n",
      "Requirement already satisfied: gql[requests] in d:\\data science\\end to end proj\\winepred\\winepred-mlflow\\venv\\lib\\site-packages (from dagshub) (3.5.3)\n",
      "Requirement already satisfied: dataclasses-json in d:\\data science\\end to end proj\\winepred\\winepred-mlflow\\venv\\lib\\site-packages (from dagshub) (0.6.7)\n",
      "Requirement already satisfied: pandas in d:\\data science\\end to end proj\\winepred\\winepred-mlflow\\venv\\lib\\site-packages (from dagshub) (2.2.2)\n",
      "Requirement already satisfied: treelib>=1.6.4 in d:\\data science\\end to end proj\\winepred\\winepred-mlflow\\venv\\lib\\site-packages (from dagshub) (1.7.1)\n",
      "Requirement already satisfied: pathvalidate>=3.0.0 in d:\\data science\\end to end proj\\winepred\\winepred-mlflow\\venv\\lib\\site-packages (from dagshub) (3.3.1)\n",
      "Requirement already satisfied: python-dateutil in d:\\data science\\end to end proj\\winepred\\winepred-mlflow\\venv\\lib\\site-packages (from dagshub) (2.9.0.post0)\n",
      "Requirement already satisfied: boto3 in d:\\data science\\end to end proj\\winepred\\winepred-mlflow\\venv\\lib\\site-packages (from dagshub) (1.38.45)\n",
      "Requirement already satisfied: semver in d:\\data science\\end to end proj\\winepred\\winepred-mlflow\\venv\\lib\\site-packages (from dagshub) (3.0.4)\n",
      "Requirement already satisfied: dagshub-annotation-converter>=0.1.5 in d:\\data science\\end to end proj\\winepred\\winepred-mlflow\\venv\\lib\\site-packages (from dagshub) (0.1.10)\n",
      "Requirement already satisfied: colorama in d:\\data science\\end to end proj\\winepred\\winepred-mlflow\\venv\\lib\\site-packages (from click>=8.0.4->dagshub) (0.4.6)\n",
      "Requirement already satisfied: lxml in d:\\data science\\end to end proj\\winepred\\winepred-mlflow\\venv\\lib\\site-packages (from dagshub-annotation-converter>=0.1.5->dagshub) (6.0.0)\n",
      "Requirement already satisfied: pillow in d:\\data science\\end to end proj\\winepred\\winepred-mlflow\\venv\\lib\\site-packages (from dagshub-annotation-converter>=0.1.5->dagshub) (11.2.1)\n",
      "Requirement already satisfied: pydantic>=2.0.0 in d:\\data science\\end to end proj\\winepred\\winepred-mlflow\\venv\\lib\\site-packages (from dagshub-annotation-converter>=0.1.5->dagshub) (2.11.7)\n",
      "Requirement already satisfied: typing-extensions in d:\\data science\\end to end proj\\winepred\\winepred-mlflow\\venv\\lib\\site-packages (from dagshub-annotation-converter>=0.1.5->dagshub) (4.14.0)\n",
      "Requirement already satisfied: gitdb<5,>=4.0.1 in d:\\data science\\end to end proj\\winepred\\winepred-mlflow\\venv\\lib\\site-packages (from GitPython>=3.1.29->dagshub) (4.0.12)\n",
      "Requirement already satisfied: anyio in d:\\data science\\end to end proj\\winepred\\winepred-mlflow\\venv\\lib\\site-packages (from httpx>=0.23.0->dagshub) (4.9.0)\n",
      "Requirement already satisfied: certifi in d:\\data science\\end to end proj\\winepred\\winepred-mlflow\\venv\\lib\\site-packages (from httpx>=0.23.0->dagshub) (2025.6.15)\n",
      "Requirement already satisfied: httpcore==1.* in d:\\data science\\end to end proj\\winepred\\winepred-mlflow\\venv\\lib\\site-packages (from httpx>=0.23.0->dagshub) (1.0.9)\n",
      "Requirement already satisfied: idna in d:\\data science\\end to end proj\\winepred\\winepred-mlflow\\venv\\lib\\site-packages (from httpx>=0.23.0->dagshub) (3.10)\n",
      "Requirement already satisfied: h11>=0.16 in d:\\data science\\end to end proj\\winepred\\winepred-mlflow\\venv\\lib\\site-packages (from httpcore==1.*->httpx>=0.23.0->dagshub) (0.16.0)\n",
      "Requirement already satisfied: markdown-it-py>=2.2.0 in d:\\data science\\end to end proj\\winepred\\winepred-mlflow\\venv\\lib\\site-packages (from rich>=13.1.0->dagshub) (3.0.0)\n",
      "Requirement already satisfied: pygments<3.0.0,>=2.13.0 in d:\\data science\\end to end proj\\winepred\\winepred-mlflow\\venv\\lib\\site-packages (from rich>=13.1.0->dagshub) (2.19.2)\n",
      "Requirement already satisfied: six in d:\\data science\\end to end proj\\winepred\\winepred-mlflow\\venv\\lib\\site-packages (from treelib>=1.6.4->dagshub) (1.17.0)\n",
      "Requirement already satisfied: botocore<1.39.0,>=1.38.45 in d:\\data science\\end to end proj\\winepred\\winepred-mlflow\\venv\\lib\\site-packages (from boto3->dagshub) (1.38.45)\n",
      "Requirement already satisfied: jmespath<2.0.0,>=0.7.1 in d:\\data science\\end to end proj\\winepred\\winepred-mlflow\\venv\\lib\\site-packages (from boto3->dagshub) (1.0.1)\n",
      "Requirement already satisfied: s3transfer<0.14.0,>=0.13.0 in d:\\data science\\end to end proj\\winepred\\winepred-mlflow\\venv\\lib\\site-packages (from boto3->dagshub) (0.13.0)\n",
      "Requirement already satisfied: marshmallow<4.0.0,>=3.18.0 in d:\\data science\\end to end proj\\winepred\\winepred-mlflow\\venv\\lib\\site-packages (from dataclasses-json->dagshub) (3.26.1)\n",
      "Requirement already satisfied: typing-inspect<1,>=0.4.0 in d:\\data science\\end to end proj\\winepred\\winepred-mlflow\\venv\\lib\\site-packages (from dataclasses-json->dagshub) (0.9.0)\n",
      "Requirement already satisfied: graphql-core<3.2.7,>=3.2 in d:\\data science\\end to end proj\\winepred\\winepred-mlflow\\venv\\lib\\site-packages (from gql[requests]->dagshub) (3.2.6)\n",
      "Requirement already satisfied: yarl<2.0,>=1.6 in d:\\data science\\end to end proj\\winepred\\winepred-mlflow\\venv\\lib\\site-packages (from gql[requests]->dagshub) (1.20.1)\n",
      "Requirement already satisfied: backoff<3.0,>=1.11.1 in d:\\data science\\end to end proj\\winepred\\winepred-mlflow\\venv\\lib\\site-packages (from gql[requests]->dagshub) (2.2.1)\n",
      "Requirement already satisfied: requests<3,>=2.26 in d:\\data science\\end to end proj\\winepred\\winepred-mlflow\\venv\\lib\\site-packages (from gql[requests]->dagshub) (2.32.4)\n",
      "Requirement already satisfied: requests-toolbelt<2,>=1.0.0 in d:\\data science\\end to end proj\\winepred\\winepred-mlflow\\venv\\lib\\site-packages (from gql[requests]->dagshub) (1.0.0)\n",
      "Requirement already satisfied: numpy>=1.23.2 in d:\\data science\\end to end proj\\winepred\\winepred-mlflow\\venv\\lib\\site-packages (from pandas->dagshub) (1.26.4)\n",
      "Requirement already satisfied: pytz>=2020.1 in d:\\data science\\end to end proj\\winepred\\winepred-mlflow\\venv\\lib\\site-packages (from pandas->dagshub) (2022.7)\n",
      "Requirement already satisfied: tzdata>=2022.7 in d:\\data science\\end to end proj\\winepred\\winepred-mlflow\\venv\\lib\\site-packages (from pandas->dagshub) (2024.1)\n",
      "Requirement already satisfied: sniffio>=1.1 in d:\\data science\\end to end proj\\winepred\\winepred-mlflow\\venv\\lib\\site-packages (from anyio->httpx>=0.23.0->dagshub) (1.3.1)\n",
      "Requirement already satisfied: urllib3!=2.2.0,<3,>=1.25.4 in d:\\data science\\end to end proj\\winepred\\winepred-mlflow\\venv\\lib\\site-packages (from botocore<1.39.0,>=1.38.45->boto3->dagshub) (2.5.0)\n",
      "Requirement already satisfied: smmap<6,>=3.0.1 in d:\\data science\\end to end proj\\winepred\\winepred-mlflow\\venv\\lib\\site-packages (from gitdb<5,>=4.0.1->GitPython>=3.1.29->dagshub) (5.0.2)\n",
      "Requirement already satisfied: mdurl~=0.1 in d:\\data science\\end to end proj\\winepred\\winepred-mlflow\\venv\\lib\\site-packages (from markdown-it-py>=2.2.0->rich>=13.1.0->dagshub) (0.1.2)\n",
      "Requirement already satisfied: packaging>=17.0 in d:\\data science\\end to end proj\\winepred\\winepred-mlflow\\venv\\lib\\site-packages (from marshmallow<4.0.0,>=3.18.0->dataclasses-json->dagshub) (23.2)\n",
      "Requirement already satisfied: annotated-types>=0.6.0 in d:\\data science\\end to end proj\\winepred\\winepred-mlflow\\venv\\lib\\site-packages (from pydantic>=2.0.0->dagshub-annotation-converter>=0.1.5->dagshub) (0.7.0)\n",
      "Requirement already satisfied: pydantic-core==2.33.2 in d:\\data science\\end to end proj\\winepred\\winepred-mlflow\\venv\\lib\\site-packages (from pydantic>=2.0.0->dagshub-annotation-converter>=0.1.5->dagshub) (2.33.2)\n",
      "Requirement already satisfied: typing-inspection>=0.4.0 in d:\\data science\\end to end proj\\winepred\\winepred-mlflow\\venv\\lib\\site-packages (from pydantic>=2.0.0->dagshub-annotation-converter>=0.1.5->dagshub) (0.4.1)\n",
      "Requirement already satisfied: charset_normalizer<4,>=2 in d:\\data science\\end to end proj\\winepred\\winepred-mlflow\\venv\\lib\\site-packages (from requests<3,>=2.26->gql[requests]->dagshub) (3.4.2)\n",
      "Requirement already satisfied: mypy-extensions>=0.3.0 in d:\\data science\\end to end proj\\winepred\\winepred-mlflow\\venv\\lib\\site-packages (from typing-inspect<1,>=0.4.0->dataclasses-json->dagshub) (1.1.0)\n",
      "Requirement already satisfied: multidict>=4.0 in d:\\data science\\end to end proj\\winepred\\winepred-mlflow\\venv\\lib\\site-packages (from yarl<2.0,>=1.6->gql[requests]->dagshub) (6.5.1)\n",
      "Requirement already satisfied: propcache>=0.2.1 in d:\\data science\\end to end proj\\winepred\\winepred-mlflow\\venv\\lib\\site-packages (from yarl<2.0,>=1.6->gql[requests]->dagshub) (0.3.2)\n",
      "Note: you may need to restart the kernel to use updated packages.\n"
     ]
    },
    {
     "name": "stderr",
     "output_type": "stream",
     "text": [
      "WARNING: There was an error checking the latest version of pip.\n"
     ]
    },
    {
     "name": "stdout",
     "output_type": "stream",
     "text": [
      "[2025-06-27 14:45:30,080: INFO: _client: HTTP Request: GET https://dagshub.com/api/v1/repos/gowtham-dd/winepred-MLFLOW \"HTTP/1.1 200 OK\"]\n"
     ]
    },
    {
     "data": {
      "text/html": [
       "<pre style=\"white-space:pre;overflow-x:auto;line-height:normal;font-family:Menlo,'DejaVu Sans Mono',consolas,'Courier New',monospace\">Initialized MLflow to track repo <span style=\"color: #008000; text-decoration-color: #008000\">\"gowtham-dd/winepred-MLFLOW\"</span>\n",
       "</pre>\n"
      ],
      "text/plain": [
       "Initialized MLflow to track repo \u001b[32m\"gowtham-dd/winepred-MLFLOW\"\u001b[0m\n"
      ]
     },
     "metadata": {},
     "output_type": "display_data"
    },
    {
     "name": "stdout",
     "output_type": "stream",
     "text": [
      "[2025-06-27 14:45:30,097: INFO: helpers: Initialized MLflow to track repo \"gowtham-dd/winepred-MLFLOW\"]\n"
     ]
    },
    {
     "data": {
      "text/html": [
       "<pre style=\"white-space:pre;overflow-x:auto;line-height:normal;font-family:Menlo,'DejaVu Sans Mono',consolas,'Courier New',monospace\">Repository gowtham-dd/winepred-MLFLOW initialized!\n",
       "</pre>\n"
      ],
      "text/plain": [
       "Repository gowtham-dd/winepred-MLFLOW initialized!\n"
      ]
     },
     "metadata": {},
     "output_type": "display_data"
    },
    {
     "name": "stdout",
     "output_type": "stream",
     "text": [
      "[2025-06-27 14:45:30,107: INFO: helpers: Repository gowtham-dd/winepred-MLFLOW initialized!]\n",
      "[2025-06-27 14:45:30,253: WARNING: connectionpool: Retrying (Retry(total=4, connect=5, read=4, redirect=5, status=5)) after connection broken by 'RemoteDisconnected('Remote end closed connection without response')': /gowtham-dd/winepred-MLFLOW.mlflow/api/2.0/mlflow/runs/create]\n"
     ]
    }
   ],
   "source": [
    "%pip install dagshub\n",
    "import dagshub\n",
    "dagshub.init(repo_owner='gowtham-dd', repo_name='winepred-MLFLOW', mlflow=True)\n",
    "\n",
    "import mlflow\n",
    "with mlflow.start_run():\n",
    "  mlflow.log_param('parameter name', 'value')\n",
    "  mlflow.log_metric('metric name', 1)"
   ]
  },
  {
   "cell_type": "code",
   "execution_count": 20,
   "metadata": {},
   "outputs": [],
   "source": [
    "from dataclasses import dataclass\n",
    "from pathlib import Path\n",
    "\n",
    "\n",
    "@dataclass(frozen=True)\n",
    "class ModelEvaluationConfig:\n",
    "    root_dir: Path\n",
    "    test_data_path: Path\n",
    "    model_path: Path\n",
    "    all_params: dict\n",
    "    metric_file_name: Path\n",
    "    target_column: str\n",
    "    mlflow_uri: str\n"
   ]
  },
  {
   "cell_type": "code",
   "execution_count": 21,
   "metadata": {},
   "outputs": [],
   "source": [
    "from WinePredMLflow.constant import *\n",
    "from WinePredMLflow.utils.common import read_yaml, create_directories, save_json"
   ]
  },
  {
   "cell_type": "code",
   "execution_count": 22,
   "metadata": {},
   "outputs": [],
   "source": [
    "class ConfigurationManager:\n",
    "    def __init__(\n",
    "        self,\n",
    "        config_filepath = CONFIG_FILE_PATH,\n",
    "        params_filepath = PARAMS_FILE_PATH,\n",
    "        schema_filepath = SCHEMA_FILE_PATH):\n",
    "\n",
    "        self.config = read_yaml(config_filepath)\n",
    "        self.params = read_yaml(params_filepath)\n",
    "        self.schema = read_yaml(schema_filepath)\n",
    "\n",
    "        create_directories([self.config.artifacts_root])\n",
    "\n",
    "    \n",
    "    def get_model_evaluation_config(self) -> ModelEvaluationConfig:\n",
    "        config = self.config.model_evaluation\n",
    "        params = self.params.ElasticNet\n",
    "        schema =  self.schema.TARGET_COLUMN\n",
    "\n",
    "        create_directories([config.root_dir])\n",
    "\n",
    "        model_evaluation_config = ModelEvaluationConfig(\n",
    "            root_dir=config.root_dir,\n",
    "            test_data_path=config.test_data_path,\n",
    "            model_path = config.model_path,\n",
    "            all_params=params,\n",
    "            metric_file_name = config.metric_file_name,\n",
    "            target_column = schema.name,\n",
    "            mlflow_uri=\"https://dagshub.com/gowtham-dd/winepred-MLFLOW.mlflow\",\n",
    "           \n",
    "        )\n",
    "\n",
    "        return model_evaluation_config\n"
   ]
  },
  {
   "cell_type": "code",
   "execution_count": 23,
   "metadata": {},
   "outputs": [],
   "source": [
    "import os\n",
    "import pandas as pd\n",
    "from sklearn.metrics import mean_squared_error, mean_absolute_error, r2_score\n",
    "from urllib.parse import urlparse\n",
    "import mlflow\n",
    "import mlflow.sklearn\n",
    "import numpy as np\n",
    "import joblib"
   ]
  },
  {
   "cell_type": "code",
   "execution_count": 24,
   "metadata": {},
   "outputs": [],
   "source": [
    "class ModelEvaluation:\n",
    "    def __init__(self, config: ModelEvaluationConfig):\n",
    "        self.config = config\n",
    "\n",
    "    \n",
    "    def eval_metrics(self,actual, pred):\n",
    "        rmse = np.sqrt(mean_squared_error(actual, pred))\n",
    "        mae = mean_absolute_error(actual, pred)\n",
    "        r2 = r2_score(actual, pred)\n",
    "        return rmse, mae, r2\n",
    "    \n",
    "\n",
    "\n",
    "    def log_into_mlflow(self):\n",
    "\n",
    "        test_data = pd.read_csv(self.config.test_data_path)\n",
    "        model = joblib.load(self.config.model_path)\n",
    "\n",
    "        test_x = test_data.drop([self.config.target_column], axis=1)\n",
    "        test_y = test_data[[self.config.target_column]]\n",
    "\n",
    "\n",
    "        mlflow.set_registry_uri(self.config.mlflow_uri)\n",
    "        tracking_url_type_store = urlparse(mlflow.get_tracking_uri()).scheme\n",
    "\n",
    "\n",
    "        with mlflow.start_run():\n",
    "\n",
    "            predicted_qualities = model.predict(test_x)\n",
    "\n",
    "            (rmse, mae, r2) = self.eval_metrics(test_y, predicted_qualities)\n",
    "            \n",
    "            # Saving metrics as local\n",
    "            scores = {\"rmse\": rmse, \"mae\": mae, \"r2\": r2}\n",
    "            save_json(path=Path(self.config.metric_file_name), data=scores)\n",
    "\n",
    "            mlflow.log_params(self.config.all_params)\n",
    "\n",
    "            mlflow.log_metric(\"rmse\", rmse)\n",
    "            mlflow.log_metric(\"r2\", r2)\n",
    "            mlflow.log_metric(\"mae\", mae)\n",
    "\n",
    "\n",
    "            # Model registry does not work with file store\n",
    "            if tracking_url_type_store != \"file\":\n",
    "\n",
    "                # Register the model\n",
    "                # There are other ways to use the Model Registry, which depends on the use case,\n",
    "                # please refer to the doc for more information:\n",
    "                # https://mlflow.org/docs/latest/model-registry.html#api-workflow\n",
    "                mlflow.sklearn.log_model(model, \"model\", registered_model_name=\"ElasticnetModel\")\n",
    "            else:\n",
    "                mlflow.sklearn.log_model(model, \"model\")\n",
    "\n",
    "    \n"
   ]
  },
  {
   "cell_type": "code",
   "execution_count": 26,
   "metadata": {},
   "outputs": [
    {
     "name": "stdout",
     "output_type": "stream",
     "text": [
      "[2025-06-27 15:14:41,430: INFO: common: yaml file: config\\config.yaml loaded successfully]\n",
      "[2025-06-27 15:14:41,437: INFO: common: yaml file: params.yaml loaded successfully]\n",
      "[2025-06-27 15:14:41,445: INFO: common: yaml file: schema.yaml loaded successfully]\n",
      "[2025-06-27 15:14:41,452: INFO: common: created directory at: artifacts]\n",
      "[2025-06-27 15:14:41,454: INFO: common: created directory at: artifacts/model_evaluation]\n",
      "[2025-06-27 15:14:41,595: WARNING: connectionpool: Retrying (Retry(total=4, connect=5, read=4, redirect=5, status=5)) after connection broken by 'RemoteDisconnected('Remote end closed connection without response')': /gowtham-dd/winepred-MLFLOW.mlflow/api/2.0/mlflow/runs/create]\n",
      "[2025-06-27 15:14:42,316: INFO: common: json file saved at: artifacts\\model_evaluation\\metrics.json]\n"
     ]
    },
    {
     "name": "stderr",
     "output_type": "stream",
     "text": [
      "Registered model 'ElasticnetModel' already exists. Creating a new version of this model...\n",
      "2025/06/27 15:14:58 INFO mlflow.tracking._model_registry.client: Waiting up to 300 seconds for model version to finish creation.                     Model name: ElasticnetModel, version 3\n",
      "Created version '3' of model 'ElasticnetModel'.\n"
     ]
    }
   ],
   "source": [
    "try:\n",
    "    config = ConfigurationManager()\n",
    "    model_evaluation_config = config.get_model_evaluation_config()\n",
    "    model_evaluation_config = ModelEvaluation(config=model_evaluation_config)\n",
    "    model_evaluation_config.log_into_mlflow()\n",
    "except Exception as e:\n",
    "    raise e"
   ]
  }
 ],
 "metadata": {
  "kernelspec": {
   "display_name": "venv",
   "language": "python",
   "name": "python3"
  },
  "language_info": {
   "codemirror_mode": {
    "name": "ipython",
    "version": 3
   },
   "file_extension": ".py",
   "mimetype": "text/x-python",
   "name": "python",
   "nbconvert_exporter": "python",
   "pygments_lexer": "ipython3",
   "version": "3.11.1"
  }
 },
 "nbformat": 4,
 "nbformat_minor": 2
}
